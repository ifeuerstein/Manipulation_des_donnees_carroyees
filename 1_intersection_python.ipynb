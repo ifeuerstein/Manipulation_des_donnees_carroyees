{
 "cells": [
  {
   "cell_type": "code",
   "execution_count": 1,
   "metadata": {},
   "outputs": [],
   "source": [
    "!pip install -q -q -q geopandas\n",
    "!pip install -q -q -q rtree"
   ]
  },
  {
   "cell_type": "markdown",
   "metadata": {},
   "source": [
    "# Interpolation entre des données Insee et un fond de carte\n",
    "\n",
    "Deux interpolations sont proposées. Dans la première, les statistiques territoriales sont obtenus en sommant les valeurs des carreaux intersectant les unités spatiales du fond de carte. Dans la deuxième, on rajoute une pondération, la part de la surface des carreaux intersectant les unités spatiales. On constate \n"
   ]
  },
  {
   "cell_type": "code",
   "execution_count": 2,
   "metadata": {},
   "outputs": [],
   "source": [
    "import geopandas as gpd\n",
    "import shutil"
   ]
  },
  {
   "cell_type": "code",
   "execution_count": 5,
   "metadata": {},
   "outputs": [],
   "source": [
    "shutil.unpack_archive('paris.zip', 'data')"
   ]
  },
  {
   "cell_type": "markdown",
   "metadata": {},
   "source": [
    "Chargement des données carroyées et des quartiers de la politique de ville sur Paris"
   ]
  },
  {
   "cell_type": "code",
   "execution_count": 6,
   "metadata": {},
   "outputs": [],
   "source": [
    "carreaux = gpd.read_file('data/paris.shp')"
   ]
  },
  {
   "cell_type": "code",
   "execution_count": 7,
   "metadata": {},
   "outputs": [],
   "source": [
    "variables = [\"Ind\",\"Men\",\"Men_pauv\",\"Men_1ind\",\"Men_5ind\",\"Men_prop\",\"Men_fmp\",\"Ind_snv\",\n",
    "             \"Men_surf\",\"Men_coll\",\"Men_mais\",\"Log_av45\",\"Log_45_70\",\"Log_70_90\",\"Log_ap90\",\n",
    "             \"Log_inc\",\"Log_soc\",\"Ind_0_3\",\"Ind_4_5\",\"Ind_6_10\",\"Ind_11_17\",\"Ind_18_24\",\n",
    "             \"Ind_25_39\",\"Ind_40_54\",\"Ind_55_64\",\"Ind_65_79\",\"Ind_80p\",\"Ind_inc\"]"
   ]
  },
  {
   "cell_type": "code",
   "execution_count": 8,
   "metadata": {},
   "outputs": [],
   "source": [
    "carreaux = carreaux[[\"IdINSPIRE\", \"geometry\"] + variables]"
   ]
  },
  {
   "cell_type": "code",
   "execution_count": 9,
   "metadata": {},
   "outputs": [],
   "source": [
    "carreaux['surface'] = carreaux.geometry.area"
   ]
  },
  {
   "cell_type": "code",
   "execution_count": 10,
   "metadata": {},
   "outputs": [],
   "source": [
    "qpv = gpd.read_file('data/qp_bdtopo_com_75056_2020.shp')"
   ]
  },
  {
   "cell_type": "markdown",
   "metadata": {},
   "source": [
    "### Intersection spatiale entre les deux données spatiales (interpolation spatiale simple)"
   ]
  },
  {
   "cell_type": "code",
   "execution_count": 11,
   "metadata": {},
   "outputs": [],
   "source": [
    "intersection = gpd.sjoin(qpv, carreaux, how='inner', op='intersects')"
   ]
  },
  {
   "cell_type": "code",
   "execution_count": 16,
   "metadata": {},
   "outputs": [
    {
     "data": {
      "text/html": [
       "<div>\n",
       "<style scoped>\n",
       "    .dataframe tbody tr th:only-of-type {\n",
       "        vertical-align: middle;\n",
       "    }\n",
       "\n",
       "    .dataframe tbody tr th {\n",
       "        vertical-align: top;\n",
       "    }\n",
       "\n",
       "    .dataframe thead th {\n",
       "        text-align: right;\n",
       "    }\n",
       "</style>\n",
       "<table border=\"1\" class=\"dataframe\">\n",
       "  <thead>\n",
       "    <tr style=\"text-align: right;\">\n",
       "      <th></th>\n",
       "      <th>code</th>\n",
       "      <th>libelle</th>\n",
       "      <th>geometry</th>\n",
       "      <th>index_right</th>\n",
       "      <th>IdINSPIRE</th>\n",
       "      <th>Ind</th>\n",
       "      <th>Men</th>\n",
       "      <th>Men_pauv</th>\n",
       "      <th>Men_1ind</th>\n",
       "      <th>Men_5ind</th>\n",
       "      <th>...</th>\n",
       "      <th>Ind_6_10</th>\n",
       "      <th>Ind_11_17</th>\n",
       "      <th>Ind_18_24</th>\n",
       "      <th>Ind_25_39</th>\n",
       "      <th>Ind_40_54</th>\n",
       "      <th>Ind_55_64</th>\n",
       "      <th>Ind_65_79</th>\n",
       "      <th>Ind_80p</th>\n",
       "      <th>Ind_inc</th>\n",
       "      <th>surface</th>\n",
       "    </tr>\n",
       "  </thead>\n",
       "  <tbody>\n",
       "    <tr>\n",
       "      <th>0</th>\n",
       "      <td>QP075001</td>\n",
       "      <td>B?dier - Boutro</td>\n",
       "      <td>POLYGON ((653957.500 6857921.700, 653802.699 6...</td>\n",
       "      <td>133</td>\n",
       "      <td>CRS3035RES200mN2885200E3761600</td>\n",
       "      <td>8.0</td>\n",
       "      <td>3.7</td>\n",
       "      <td>0.9</td>\n",
       "      <td>1.6</td>\n",
       "      <td>0.3</td>\n",
       "      <td>...</td>\n",
       "      <td>0.4</td>\n",
       "      <td>0.4</td>\n",
       "      <td>0.5</td>\n",
       "      <td>2.2</td>\n",
       "      <td>1.7</td>\n",
       "      <td>0.8</td>\n",
       "      <td>0.8</td>\n",
       "      <td>0.3</td>\n",
       "      <td>0.2</td>\n",
       "      <td>39989.301552</td>\n",
       "    </tr>\n",
       "    <tr>\n",
       "      <th>0</th>\n",
       "      <td>QP075001</td>\n",
       "      <td>B?dier - Boutro</td>\n",
       "      <td>POLYGON ((653957.500 6857921.700, 653802.699 6...</td>\n",
       "      <td>559</td>\n",
       "      <td>CRS3035RES200mN2885200E3761800</td>\n",
       "      <td>520.0</td>\n",
       "      <td>194.0</td>\n",
       "      <td>34.0</td>\n",
       "      <td>59.0</td>\n",
       "      <td>28.0</td>\n",
       "      <td>...</td>\n",
       "      <td>39.5</td>\n",
       "      <td>56.0</td>\n",
       "      <td>39.0</td>\n",
       "      <td>95.0</td>\n",
       "      <td>97.0</td>\n",
       "      <td>62.0</td>\n",
       "      <td>53.0</td>\n",
       "      <td>36.0</td>\n",
       "      <td>8.0</td>\n",
       "      <td>39989.312182</td>\n",
       "    </tr>\n",
       "  </tbody>\n",
       "</table>\n",
       "<p>2 rows × 34 columns</p>\n",
       "</div>"
      ],
      "text/plain": [
       "       code          libelle  \\\n",
       "0  QP075001  B?dier - Boutro   \n",
       "0  QP075001  B?dier - Boutro   \n",
       "\n",
       "                                            geometry  index_right  \\\n",
       "0  POLYGON ((653957.500 6857921.700, 653802.699 6...          133   \n",
       "0  POLYGON ((653957.500 6857921.700, 653802.699 6...          559   \n",
       "\n",
       "                        IdINSPIRE    Ind    Men  Men_pauv  Men_1ind  Men_5ind  \\\n",
       "0  CRS3035RES200mN2885200E3761600    8.0    3.7       0.9       1.6       0.3   \n",
       "0  CRS3035RES200mN2885200E3761800  520.0  194.0      34.0      59.0      28.0   \n",
       "\n",
       "   ...  Ind_6_10  Ind_11_17  Ind_18_24  Ind_25_39  Ind_40_54  Ind_55_64  \\\n",
       "0  ...       0.4        0.4        0.5        2.2        1.7        0.8   \n",
       "0  ...      39.5       56.0       39.0       95.0       97.0       62.0   \n",
       "\n",
       "   Ind_65_79  Ind_80p  Ind_inc       surface  \n",
       "0        0.8      0.3      0.2  39989.301552  \n",
       "0       53.0     36.0      8.0  39989.312182  \n",
       "\n",
       "[2 rows x 34 columns]"
      ]
     },
     "execution_count": 16,
     "metadata": {},
     "output_type": "execute_result"
    }
   ],
   "source": [
    "intersection.head(2)"
   ]
  },
  {
   "cell_type": "markdown",
   "metadata": {},
   "source": [
    "Aggrégation des données par qpv"
   ]
  },
  {
   "cell_type": "code",
   "execution_count": 14,
   "metadata": {},
   "outputs": [],
   "source": [
    "qpv_statistics = intersection.dissolve(by=['code', 'libelle'], aggfunc='sum', as_index=False)"
   ]
  },
  {
   "cell_type": "code",
   "execution_count": 17,
   "metadata": {},
   "outputs": [
    {
     "data": {
      "text/html": [
       "<div>\n",
       "<style scoped>\n",
       "    .dataframe tbody tr th:only-of-type {\n",
       "        vertical-align: middle;\n",
       "    }\n",
       "\n",
       "    .dataframe tbody tr th {\n",
       "        vertical-align: top;\n",
       "    }\n",
       "\n",
       "    .dataframe thead th {\n",
       "        text-align: right;\n",
       "    }\n",
       "</style>\n",
       "<table border=\"1\" class=\"dataframe\">\n",
       "  <thead>\n",
       "    <tr style=\"text-align: right;\">\n",
       "      <th></th>\n",
       "      <th>code</th>\n",
       "      <th>libelle</th>\n",
       "      <th>geometry</th>\n",
       "      <th>index_right</th>\n",
       "      <th>Ind</th>\n",
       "      <th>Men</th>\n",
       "      <th>Men_pauv</th>\n",
       "      <th>Men_1ind</th>\n",
       "      <th>Men_5ind</th>\n",
       "      <th>Men_prop</th>\n",
       "      <th>...</th>\n",
       "      <th>Ind_6_10</th>\n",
       "      <th>Ind_11_17</th>\n",
       "      <th>Ind_18_24</th>\n",
       "      <th>Ind_25_39</th>\n",
       "      <th>Ind_40_54</th>\n",
       "      <th>Ind_55_64</th>\n",
       "      <th>Ind_65_79</th>\n",
       "      <th>Ind_80p</th>\n",
       "      <th>Ind_inc</th>\n",
       "      <th>surface</th>\n",
       "    </tr>\n",
       "  </thead>\n",
       "  <tbody>\n",
       "    <tr>\n",
       "      <th>0</th>\n",
       "      <td>QP075001</td>\n",
       "      <td>B?dier - Boutro</td>\n",
       "      <td>POLYGON ((653957.500 6857921.700, 653802.699 6...</td>\n",
       "      <td>34133</td>\n",
       "      <td>5112.0</td>\n",
       "      <td>2150.7</td>\n",
       "      <td>444.9</td>\n",
       "      <td>889.6</td>\n",
       "      <td>237.3</td>\n",
       "      <td>141.8</td>\n",
       "      <td>...</td>\n",
       "      <td>365.4</td>\n",
       "      <td>498.9</td>\n",
       "      <td>294.0</td>\n",
       "      <td>1175.2</td>\n",
       "      <td>1126.7</td>\n",
       "      <td>494.8</td>\n",
       "      <td>394.8</td>\n",
       "      <td>173.3</td>\n",
       "      <td>96.2</td>\n",
       "      <td>319914.948929</td>\n",
       "    </tr>\n",
       "    <tr>\n",
       "      <th>1</th>\n",
       "      <td>QP075002</td>\n",
       "      <td>Chaufourniers</td>\n",
       "      <td>POLYGON ((653876.162 6864327.010, 653913.377 6...</td>\n",
       "      <td>6625</td>\n",
       "      <td>10886.5</td>\n",
       "      <td>5048.0</td>\n",
       "      <td>955.0</td>\n",
       "      <td>2335.0</td>\n",
       "      <td>385.0</td>\n",
       "      <td>1482.0</td>\n",
       "      <td>...</td>\n",
       "      <td>570.0</td>\n",
       "      <td>822.0</td>\n",
       "      <td>545.5</td>\n",
       "      <td>2693.0</td>\n",
       "      <td>2265.0</td>\n",
       "      <td>1291.0</td>\n",
       "      <td>1276.0</td>\n",
       "      <td>445.0</td>\n",
       "      <td>257.5</td>\n",
       "      <td>239955.533755</td>\n",
       "    </tr>\n",
       "  </tbody>\n",
       "</table>\n",
       "<p>2 rows × 33 columns</p>\n",
       "</div>"
      ],
      "text/plain": [
       "       code          libelle  \\\n",
       "0  QP075001  B?dier - Boutro   \n",
       "1  QP075002    Chaufourniers   \n",
       "\n",
       "                                            geometry  index_right      Ind  \\\n",
       "0  POLYGON ((653957.500 6857921.700, 653802.699 6...        34133   5112.0   \n",
       "1  POLYGON ((653876.162 6864327.010, 653913.377 6...         6625  10886.5   \n",
       "\n",
       "      Men  Men_pauv  Men_1ind  Men_5ind  Men_prop  ...  Ind_6_10  Ind_11_17  \\\n",
       "0  2150.7     444.9     889.6     237.3     141.8  ...     365.4      498.9   \n",
       "1  5048.0     955.0    2335.0     385.0    1482.0  ...     570.0      822.0   \n",
       "\n",
       "   Ind_18_24  Ind_25_39  Ind_40_54  Ind_55_64  Ind_65_79  Ind_80p  Ind_inc  \\\n",
       "0      294.0     1175.2     1126.7      494.8      394.8    173.3     96.2   \n",
       "1      545.5     2693.0     2265.0     1291.0     1276.0    445.0    257.5   \n",
       "\n",
       "         surface  \n",
       "0  319914.948929  \n",
       "1  239955.533755  \n",
       "\n",
       "[2 rows x 33 columns]"
      ]
     },
     "execution_count": 17,
     "metadata": {},
     "output_type": "execute_result"
    }
   ],
   "source": [
    "qpv_statistics.head(2)"
   ]
  },
  {
   "cell_type": "markdown",
   "metadata": {},
   "source": [
    "### Intersection spatiale entre les deux données spatiales (au prorata de la surface)"
   ]
  },
  {
   "cell_type": "code",
   "execution_count": 18,
   "metadata": {},
   "outputs": [],
   "source": [
    "intersection = gpd.overlay(qpv, carreaux)"
   ]
  },
  {
   "cell_type": "code",
   "execution_count": 19,
   "metadata": {},
   "outputs": [],
   "source": [
    "ponderation = intersection.area / intersection.surface"
   ]
  },
  {
   "cell_type": "code",
   "execution_count": 20,
   "metadata": {},
   "outputs": [],
   "source": [
    "intersection.loc[:,variables] = intersection.loc[:,variables].mul(ponderation, axis=0)"
   ]
  },
  {
   "cell_type": "markdown",
   "metadata": {},
   "source": [
    "Aggrégation des données par qpv"
   ]
  },
  {
   "cell_type": "code",
   "execution_count": 21,
   "metadata": {},
   "outputs": [],
   "source": [
    "qpv_statistics = intersection[['code', 'libelle', 'geometry'] + variables].dissolve(by=['code', 'libelle'], aggfunc='sum', as_index=False)"
   ]
  },
  {
   "cell_type": "code",
   "execution_count": 22,
   "metadata": {},
   "outputs": [
    {
     "data": {
      "text/html": [
       "<div>\n",
       "<style scoped>\n",
       "    .dataframe tbody tr th:only-of-type {\n",
       "        vertical-align: middle;\n",
       "    }\n",
       "\n",
       "    .dataframe tbody tr th {\n",
       "        vertical-align: top;\n",
       "    }\n",
       "\n",
       "    .dataframe thead th {\n",
       "        text-align: right;\n",
       "    }\n",
       "</style>\n",
       "<table border=\"1\" class=\"dataframe\">\n",
       "  <thead>\n",
       "    <tr style=\"text-align: right;\">\n",
       "      <th></th>\n",
       "      <th>code</th>\n",
       "      <th>libelle</th>\n",
       "      <th>geometry</th>\n",
       "      <th>Ind</th>\n",
       "      <th>Men</th>\n",
       "      <th>Men_pauv</th>\n",
       "      <th>Men_1ind</th>\n",
       "      <th>Men_5ind</th>\n",
       "      <th>Men_prop</th>\n",
       "      <th>Men_fmp</th>\n",
       "      <th>...</th>\n",
       "      <th>Ind_4_5</th>\n",
       "      <th>Ind_6_10</th>\n",
       "      <th>Ind_11_17</th>\n",
       "      <th>Ind_18_24</th>\n",
       "      <th>Ind_25_39</th>\n",
       "      <th>Ind_40_54</th>\n",
       "      <th>Ind_55_64</th>\n",
       "      <th>Ind_65_79</th>\n",
       "      <th>Ind_80p</th>\n",
       "      <th>Ind_inc</th>\n",
       "    </tr>\n",
       "  </thead>\n",
       "  <tbody>\n",
       "    <tr>\n",
       "      <th>0</th>\n",
       "      <td>QP075001</td>\n",
       "      <td>B?dier - Boutro</td>\n",
       "      <td>POLYGON ((653957.500 6857921.700, 653882.944 6...</td>\n",
       "      <td>2264.187066</td>\n",
       "      <td>947.974481</td>\n",
       "      <td>183.343515</td>\n",
       "      <td>386.503798</td>\n",
       "      <td>103.230715</td>\n",
       "      <td>10.153103</td>\n",
       "      <td>141.051726</td>\n",
       "      <td>...</td>\n",
       "      <td>77.023592</td>\n",
       "      <td>156.675216</td>\n",
       "      <td>221.893923</td>\n",
       "      <td>124.053034</td>\n",
       "      <td>489.861762</td>\n",
       "      <td>504.837418</td>\n",
       "      <td>232.063625</td>\n",
       "      <td>193.580205</td>\n",
       "      <td>84.371875</td>\n",
       "      <td>43.396112</td>\n",
       "    </tr>\n",
       "    <tr>\n",
       "      <th>1</th>\n",
       "      <td>QP075002</td>\n",
       "      <td>Chaufourniers</td>\n",
       "      <td>POLYGON ((654071.916 6864111.407, 654060.266 6...</td>\n",
       "      <td>2059.902066</td>\n",
       "      <td>939.976813</td>\n",
       "      <td>188.818222</td>\n",
       "      <td>414.423931</td>\n",
       "      <td>68.463556</td>\n",
       "      <td>252.474650</td>\n",
       "      <td>106.978945</td>\n",
       "      <td>...</td>\n",
       "      <td>43.697437</td>\n",
       "      <td>109.610218</td>\n",
       "      <td>156.805499</td>\n",
       "      <td>114.176747</td>\n",
       "      <td>481.204805</td>\n",
       "      <td>431.894507</td>\n",
       "      <td>239.231732</td>\n",
       "      <td>250.471354</td>\n",
       "      <td>89.689896</td>\n",
       "      <td>48.862052</td>\n",
       "    </tr>\n",
       "  </tbody>\n",
       "</table>\n",
       "<p>2 rows × 31 columns</p>\n",
       "</div>"
      ],
      "text/plain": [
       "       code          libelle  \\\n",
       "0  QP075001  B?dier - Boutro   \n",
       "1  QP075002    Chaufourniers   \n",
       "\n",
       "                                            geometry          Ind         Men  \\\n",
       "0  POLYGON ((653957.500 6857921.700, 653882.944 6...  2264.187066  947.974481   \n",
       "1  POLYGON ((654071.916 6864111.407, 654060.266 6...  2059.902066  939.976813   \n",
       "\n",
       "     Men_pauv    Men_1ind    Men_5ind    Men_prop     Men_fmp  ...    Ind_4_5  \\\n",
       "0  183.343515  386.503798  103.230715   10.153103  141.051726  ...  77.023592   \n",
       "1  188.818222  414.423931   68.463556  252.474650  106.978945  ...  43.697437   \n",
       "\n",
       "     Ind_6_10   Ind_11_17   Ind_18_24   Ind_25_39   Ind_40_54   Ind_55_64  \\\n",
       "0  156.675216  221.893923  124.053034  489.861762  504.837418  232.063625   \n",
       "1  109.610218  156.805499  114.176747  481.204805  431.894507  239.231732   \n",
       "\n",
       "    Ind_65_79    Ind_80p    Ind_inc  \n",
       "0  193.580205  84.371875  43.396112  \n",
       "1  250.471354  89.689896  48.862052  \n",
       "\n",
       "[2 rows x 31 columns]"
      ]
     },
     "execution_count": 22,
     "metadata": {},
     "output_type": "execute_result"
    }
   ],
   "source": [
    "qpv_statistics.head(2)"
   ]
  }
 ],
 "metadata": {
  "kernelspec": {
   "display_name": "Python 3",
   "language": "python",
   "name": "python3"
  },
  "language_info": {
   "codemirror_mode": {
    "name": "ipython",
    "version": 3
   },
   "file_extension": ".py",
   "mimetype": "text/x-python",
   "name": "python",
   "nbconvert_exporter": "python",
   "pygments_lexer": "ipython3",
   "version": "3.7.6"
  }
 },
 "nbformat": 4,
 "nbformat_minor": 4
}
